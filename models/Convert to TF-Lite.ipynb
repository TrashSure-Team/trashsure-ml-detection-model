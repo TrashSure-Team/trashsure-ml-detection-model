{
 "cells": [
  {
   "cell_type": "code",
   "execution_count": 5,
   "metadata": {},
   "outputs": [
    {
     "name": "stdout",
     "output_type": "stream",
     "text": [
      "2.12.0\n",
      "2.12.0\n"
     ]
    }
   ],
   "source": [
    "import tensorflow as tf\n",
    "import keras\n",
    "import sys\n",
    "sys.path.append(\"..\")\n",
    "\n",
    "from detection.model import MaskRCNN\n",
    "from detection.config import Config\n",
    "import os\n",
    "import csv\n",
    "\n",
    "print(tf.__version__)\n",
    "print(keras.__version__)"
   ]
  },
  {
   "cell_type": "code",
   "execution_count": 20,
   "metadata": {},
   "outputs": [],
   "source": [
    "# Root directory of the models\n",
    "ROOT_DIR = os.path.abspath(os.path.join(\"..\", \"detection\", \"models\"))\n",
    "\n",
    "# Path to trained weights file\n",
    "COCO_MODEL_PATH = os.path.join(ROOT_DIR, \"model.h5\")\n",
    "\n",
    "# Directory to save logs and model checkpoints\n",
    "DEFAULT_LOGS_DIR = os.path.join(ROOT_DIR, \"logs\")\n",
    "\n",
    "# Model path (hardcoded for simplicity)\n",
    "model_path = os.path.join(ROOT_DIR, \"logs\", \"mask_rcnn_taco_0100.h5\")\n",
    "\n",
    "# Define your parameters\n",
    "dataset_path = os.path.join('..', 'data')\n",
    "round_number = 0\n",
    "class_map_path = os.path.join('..', 'detection', 'dataset_configurations', 'map.csv')"
   ]
  },
  {
   "cell_type": "code",
   "execution_count": 16,
   "metadata": {},
   "outputs": [
    {
     "name": "stdout",
     "output_type": "stream",
     "text": [
      "{'Aerosol': 'Can', 'Aluminium foil': 'Other', 'Battery': 'Other', 'Aluminium blister pack': 'Other', 'Carded blister pack': 'Other', 'Clear plastic bottle': 'Bottle', 'Glass bottle': 'Bottle', 'Other plastic bottle': 'Bottle', 'Plastic bottle cap': 'Bottle cap', 'Metal bottle cap': 'Bottle cap', 'Broken glass': 'Other', 'Drink can': 'Can', 'Food Can': 'Can', 'Corrugated carton': 'Other', 'Drink carton': 'Other', 'Egg carton': 'Other', 'Meal carton': 'Other', 'Other carton': 'Other', 'Paper cup': 'Cup', 'Disposable plastic cup': 'Cup', 'Foam cup': 'Cup', 'Glass cup': 'Cup', 'Other plastic cup': 'Cup', 'Food waste': 'Other', 'Plastic lid': 'Lid', 'Metal lid': 'Lid', 'Magazine paper': 'Other', 'Tissues': 'Other', 'Wrapping paper': 'Other', 'Normal paper': 'Other', 'Paper bag': 'Other', 'Plastified paper bag': 'Other', 'Pizza box': 'Other', 'Garbage bag': 'Plastic bag + wrapper', 'Single-use carrier bag': 'Plastic bag + wrapper', 'Polypropylene bag': 'Plastic bag + wrapper', 'Produce bag': 'Plastic bag + wrapper', 'Cereal bag': 'Plastic bag + wrapper', 'Bread bag': 'Plastic bag + wrapper', 'Plastic film': 'Plastic bag + wrapper', 'Crisp packet': 'Plastic bag + wrapper', 'Other plastic wrapper': 'Plastic bag + wrapper', 'Retort pouch': 'Plastic bag + wrapper', 'Spread tub': 'Other', 'Tupperware': 'Other', 'Disposable food container': 'Other', 'Foam food container': 'Other', 'Other plastic container': 'Other', 'Plastic glooves': 'Other', 'Plastic utensils': 'Other', 'Pop tab': 'Pop tab', 'Rope & strings': 'Other', 'Scrap metal': 'Other', 'Shoe': 'Other', 'Six pack rings': 'Plastic bag + wrapper', 'Squeezable tube': 'Other', 'Plastic straw': 'Straw', 'Paper straw': 'Straw', 'Styrofoam piece': 'Other', 'Toilet tube': 'Other', 'Unlabeled litter': 'Other', 'Glass jar': 'Other', 'Other plastic': 'Other', 'Cigarette': 'Cigarette'}\n"
     ]
    }
   ],
   "source": [
    "# Class map\n",
    "class_map = {}\n",
    "map_to_one_class = {}\n",
    "with open(class_map_path) as csvfile:\n",
    "    reader = csv.reader(csvfile)\n",
    "    class_map = {row[0]: row[1] for row in reader}\n",
    "    map_to_one_class = {c: 'Litter' for c in class_map}\n",
    "print(class_map)"
   ]
  },
  {
   "cell_type": "code",
   "execution_count": 18,
   "metadata": {},
   "outputs": [
    {
     "name": "stdout",
     "output_type": "stream",
     "text": [
      "creating index...\n",
      "index created!\n",
      "Number of images used: 150\n",
      "11\n"
     ]
    }
   ],
   "source": [
    "from detection.dataset import Taco\n",
    "\n",
    "# Create a new Taco dataset\n",
    "dataset_test = Taco()\n",
    "\n",
    "# Load the data\n",
    "taco = dataset_test.load_taco(dataset_path, round_number, \"test\", class_map=class_map, return_taco=True)\n",
    "\n",
    "# Prepare the dataset\n",
    "dataset_test.prepare()\n",
    "\n",
    "# Get the number of classes\n",
    "nr_classes = dataset_test.num_classes\n",
    "print(nr_classes)"
   ]
  },
  {
   "cell_type": "code",
   "execution_count": 21,
   "metadata": {},
   "outputs": [
    {
     "name": "stderr",
     "output_type": "stream",
     "text": [
      "WARNING:absl:Found untraced functions such as _jit_compiled_convolution_op, _jit_compiled_convolution_op, _jit_compiled_convolution_op, _jit_compiled_convolution_op, _jit_compiled_convolution_op while saving (showing 5 of 72). These functions will not be directly callable after loading.\n"
     ]
    },
    {
     "name": "stdout",
     "output_type": "stream",
     "text": [
      "INFO:tensorflow:Assets written to: C:\\Users\\LENOVO\\AppData\\Local\\Temp\\tmprrwvqu87\\assets\n"
     ]
    },
    {
     "name": "stderr",
     "output_type": "stream",
     "text": [
      "INFO:tensorflow:Assets written to: C:\\Users\\LENOVO\\AppData\\Local\\Temp\\tmprrwvqu87\\assets\n"
     ]
    }
   ],
   "source": [
    "# Prepare the config\n",
    "class TacoTestConfig(Config):\n",
    "            NAME = \"taco\"\n",
    "            GPU_COUNT = 1\n",
    "            IMAGES_PER_GPU = 1\n",
    "            DETECTION_MIN_CONFIDENCE = 0\n",
    "            NUM_CLASSES = nr_classes\n",
    "            USE_OBJECT_ZOOM = False\n",
    "config = TacoTestConfig()\n",
    "\n",
    "# Create a new Mask R-CNN model in inference mode\n",
    "model = MaskRCNN(mode=\"inference\", config=config, model_dir=DEFAULT_LOGS_DIR)\n",
    "\n",
    "# Load weights\n",
    "model.load_weights(model_path, model_path, by_name=True)\n",
    "\n",
    "# Convert the model to TFLite\n",
    "converter = tf.lite.TFLiteConverter.from_keras_model(model.keras_model)\n",
    "\n",
    "# Set quantization parameters (so it doesn't break)\n",
    "converter.target_spec.supported_ops = [tf.lite.OpsSet.TFLITE_BUILTINS,\n",
    "                                       tf.lite.OpsSet.SELECT_TF_OPS]\n",
    "tflite_model = converter.convert()\n",
    "\n",
    "# Save the TFLite model\n",
    "with open('model.tflite', 'wb') as f:\n",
    "    f.write(tflite_model)"
   ]
  }
 ],
 "metadata": {
  "kernelspec": {
   "display_name": "Python 3 (ipykernel)",
   "language": "python",
   "name": "python3"
  },
  "language_info": {
   "codemirror_mode": {
    "name": "ipython",
    "version": 3
   },
   "file_extension": ".py",
   "mimetype": "text/x-python",
   "name": "python",
   "nbconvert_exporter": "python",
   "pygments_lexer": "ipython3",
   "version": "3.11.2"
  }
 },
 "nbformat": 4,
 "nbformat_minor": 2
}
